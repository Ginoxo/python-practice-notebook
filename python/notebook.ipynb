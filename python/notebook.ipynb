{
 "cells": [
  {
   "cell_type": "markdown",
   "id": "b1583b91",
   "metadata": {},
   "source": [
    "DAY 1\n"
   ]
  },
  {
   "cell_type": "code",
   "execution_count": 66,
   "id": "d9f82fac",
   "metadata": {},
   "outputs": [
    {
     "name": "stdout",
     "output_type": "stream",
     "text": [
      "1.Mix 500g of Flour, 10g Yeast and 300ml Water in a bowl.\n",
      "2.Knead the dough for 10 minutes.\n",
      "3.Add 3g of Salt.\n",
      "4.Leave to rise for 2 hours.\n",
      "5.Bake at 200 degrees C for 30 minutes.\n"
     ]
    }
   ],
   "source": [
    "print(\"1.Mix 500g of Flour, 10g Yeast and 300ml Water in a bowl.\")\n",
    "print(\"2.Knead the dough for 10 minutes.\")\n",
    "print(\"3.Add 3g of Salt.\")\n",
    "print(\"4.Leave to rise for 2 hours.\")\n",
    "print(\"5.Bake at 200 degrees C for 30 minutes.\")"
   ]
  },
  {
   "cell_type": "code",
   "execution_count": 67,
   "id": "dedfe0e2",
   "metadata": {},
   "outputs": [
    {
     "name": "stdout",
     "output_type": "stream",
     "text": [
      "Hello world!\n",
      "Hello world!\n"
     ]
    }
   ],
   "source": [
    "print(\"Hello world!\\nHello world!\")"
   ]
  },
  {
   "cell_type": "code",
   "execution_count": 68,
   "id": "5b11671e",
   "metadata": {},
   "outputs": [
    {
     "name": "stdout",
     "output_type": "stream",
     "text": [
      "HelloAngela\n"
     ]
    }
   ],
   "source": [
    "print(\"Hello\"+\"Angela\")"
   ]
  },
  {
   "cell_type": "code",
   "execution_count": null,
   "id": "0e1e0b3e",
   "metadata": {},
   "outputs": [
    {
     "name": "stdout",
     "output_type": "stream",
     "text": [
      "Hello Angela\n"
     ]
    }
   ],
   "source": [
    "print(\"Hello\" + \" \" + \"Angela\")"
   ]
  },
  {
   "cell_type": "code",
   "execution_count": 70,
   "id": "8bed4c0f",
   "metadata": {},
   "outputs": [
    {
     "name": "stdout",
     "output_type": "stream",
     "text": [
      "Notes from Day 1\n",
      "The print statement is used to output strings\n",
      "Strings are strings of characters\n",
      "String Concatenation is done with the + sign\n",
      "New lines can be created with a  and the letter n\n"
     ]
    }
   ],
   "source": [
    "# Fix the code below 👇\n",
    "\n",
    "print(\"Notes from Day 1\")\n",
    "print(\"The print statement is used to output strings\")\n",
    "print(\"Strings are strings of characters\")\n",
    "print(\"String Concatenation is done with the + sign\")\n",
    "print(\"New lines can be created with a  and the letter n\")"
   ]
  },
  {
   "cell_type": "code",
   "execution_count": 71,
   "id": "eeab21f5",
   "metadata": {},
   "outputs": [
    {
     "name": "stdout",
     "output_type": "stream",
     "text": [
      "Hello!\n"
     ]
    }
   ],
   "source": [
    "print(\"Hello\" + input(\"What is your name?\")+\"!\")"
   ]
  },
  {
   "cell_type": "code",
   "execution_count": 72,
   "id": "20dd7d3a",
   "metadata": {},
   "outputs": [
    {
     "name": "stdout",
     "output_type": "stream",
     "text": [
      "0\n"
     ]
    }
   ],
   "source": [
    "username = input(\"What is your name?\")\n",
    "print(len(username))"
   ]
  },
  {
   "cell_type": "code",
   "execution_count": 74,
   "id": "454dc25e",
   "metadata": {},
   "outputs": [
    {
     "name": "stdout",
     "output_type": "stream",
     "text": [
      "juice\n",
      "milk\n"
     ]
    }
   ],
   "source": [
    "glass1 = \"milk\"\n",
    "glass2 = \"juice\"\n",
    "\n",
    "glass3=glass1\n",
    "glass1=glass2\n",
    "glass2=glass3\n",
    "\n",
    "print(glass1)\n",
    "print(glass2)\n",
    "\n",
    "\n"
   ]
  },
  {
   "cell_type": "code",
   "execution_count": 75,
   "id": "1da529c2",
   "metadata": {},
   "outputs": [
    {
     "name": "stdout",
     "output_type": "stream",
     "text": [
      "Welcome to Band Name Generator\n",
      "Your band name is: Caloocanbrowny\n"
     ]
    }
   ],
   "source": [
    "print(\"Welcome to Band Name Generator\")\n",
    "band_name=input(\"What city you grew up in?\")\n",
    "pet_name=input(\"What is your pet name?\")\n",
    "print(\"Your band name is: \" + band_name + pet_name)\n"
   ]
  }
 ],
 "metadata": {
  "kernelspec": {
   "display_name": "Python 3",
   "language": "python",
   "name": "python3"
  },
  "language_info": {
   "codemirror_mode": {
    "name": "ipython",
    "version": 3
   },
   "file_extension": ".py",
   "mimetype": "text/x-python",
   "name": "python",
   "nbconvert_exporter": "python",
   "pygments_lexer": "ipython3",
   "version": "3.13.3"
  }
 },
 "nbformat": 4,
 "nbformat_minor": 5
}
